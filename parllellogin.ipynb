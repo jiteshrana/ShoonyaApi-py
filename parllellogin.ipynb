{
 "cells": [
  {
   "cell_type": "code",
   "execution_count": null,
   "metadata": {},
   "outputs": [],
   "source": [
    "from NorenRestApiPy.NorenApi import  NorenApi\n",
    "import json\n",
    "import datetime\n",
    "import pandas as pd\n",
    "import time\n",
    "   \n",
    "api = ''\n",
    "\n",
    "userid    = 'FA12345' \n",
    "password = 'password' \n",
    " \n",
    "\n",
    "#update the user token generated during first script execution\n",
    "usertoken = '818f408d6a676fde6feb1dae939595bdf60ec1e00e5f85c1f7efafd79c9c035d'\n",
    "\n",
    "api = None\n",
    "\n",
    "def ConnectApi():\n",
    "    global api\n",
    "    \n",
    "    try:\n",
    "        class ShoonyaApiPy(NorenApi):\n",
    "            def __init__(self):\n",
    "                NorenApi.__init__(self, host='https://api.shoonya.com/NorenWClientTP/', websocket='wss://api.shoonya.com/NorenWSTP/', eodhost='https://api.shoonya.com/chartApi/getdata/')\n",
    "                \n",
    "        api = ShoonyaApiPy()\n",
    "    except Exception as e:\n",
    "        class ShoonyaApiPy(NorenApi):\n",
    "            def __init__(self):\n",
    "                NorenApi.__init__(self, host='https://api.shoonya.com/NorenWClientTP/', websocket='wss://api.shoonya.com/NorenWSTP/')\n",
    "                \n",
    "        api = ShoonyaApiPy()\n",
    "        pass\n",
    "\n",
    "    print(f\"userid {userid} password {password} usertoken {usertoken}\")\n",
    "    login_status = api.set_session(userid=userid, password=password,usertoken=usertoken)\n",
    "    \n",
    "def GetLTP():\n",
    "    global api\n",
    "    count = 0\n",
    "    while count < 5:\n",
    "        print(f\"Reliance LTP is {api.get_quotes('NSE','RELIANCE-EQ')['lp']}\")\n",
    "        count += 1\n",
    "\n",
    "ConnectApi()\n",
    "GetLTP()"
   ]
  }
 ],
 "metadata": {
  "language_info": {
   "name": "python"
  }
 },
 "nbformat": 4,
 "nbformat_minor": 2
}
